{
 "cells": [
  {
   "cell_type": "code",
   "execution_count": 1,
   "metadata": {},
   "outputs": [],
   "source": [
    "import sys\n",
    "assert sys.version_info >= (3, 5)\n",
    "import numpy as np\n",
    "%matplotlib inline\n",
    "import matplotlib as mpl\n",
    "import matplotlib.pyplot as plt\n",
    "mpl.rc('axes', labelsize=14)\n",
    "mpl.rc('xtick', labelsize=12)\n",
    "mpl.rc('ytick', labelsize=12)\n",
    "import tensorflow as tf\n",
    "from tensorflow import keras\n",
    "from tensorflow.keras import layers\n",
    "from sklearn.preprocessing import OneHotEncoder\n",
    "import pandas as pd\n",
    "import tensorflow_probability as tfp\n",
    "np.random.seed(42)\n",
    "tf.random.set_seed(42)"
   ]
  },
  {
   "cell_type": "code",
   "execution_count": 2,
   "metadata": {},
   "outputs": [],
   "source": [
    "#leaky_relu = tf.keras.layers.LeakyReLU()\n",
    "randN_05 = keras.initializers.RandomNormal(mean=0.0, stddev=0.05, seed=None)\n",
    "dim_n = 3 # Dim 4+ needs considerable fine-tuning"
   ]
  },
  {
   "cell_type": "code",
   "execution_count": 3,
   "metadata": {},
   "outputs": [],
   "source": [
    "input_A = keras.layers.Input(shape=[2*dim_n])\n",
    "input_B = keras.layers.Input(shape=[2*dim_n])\n",
    "    \n",
    "transform = keras.models.Sequential([\n",
    "layers.Dense(30, kernel_initializer=randN_05, activation=\"relu\"),\n",
    "keras.layers.Dropout(rate=0.3), # To regularize higher dimensionality\n",
    "layers.Dense(30, kernel_initializer=randN_05, activation=\"relu\"),\n",
    "keras.layers.Dropout(rate=0.3), # To regularize higher dimensionality\n",
    "layers.Dense(1, kernel_initializer=randN_05, activation=None)])\n",
    "\n",
    "output_A = transform(input_A)\n",
    "output_B = transform(input_B)\n",
    "output_C = tf.reduce_mean(output_A) - tf.math.log(tf.reduce_mean(tf.exp(output_B))) # MINE\n",
    "#output_C = tf.reduce_mean(output_A) - tf.reduce_mean(tf.exp(output_B))+1 # MINE-f\n",
    "MI_mod = keras.models.Model(inputs=[input_A, input_B], outputs=output_C)"
   ]
  },
  {
   "cell_type": "code",
   "execution_count": 4,
   "metadata": {},
   "outputs": [],
   "source": [
    "def loss_func(inp, outp):\n",
    "    '''Calculate the loss: scaled negative estimated mutual information'''\n",
    "    return -outp"
   ]
  },
  {
   "cell_type": "code",
   "execution_count": 5,
   "metadata": {},
   "outputs": [],
   "source": [
    "MI_mod.compile(loss=loss_func, optimizer=keras.optimizers.Nadam(lr=0.001))"
   ]
  },
  {
   "cell_type": "code",
   "execution_count": 6,
   "metadata": {},
   "outputs": [],
   "source": [
    "SIGNAL_NOISE = 0.2\n",
    "SAMPLE_SIZE = dim_n*6000\n",
    "SIGNAL_POWER = 3\n",
    "\n",
    "x_sample = np.random.normal(0., np.sqrt(SIGNAL_POWER), [SAMPLE_SIZE, dim_n])\n",
    "y_sample = x_sample + np.random.normal(0., np.sqrt(SIGNAL_NOISE), [SAMPLE_SIZE, dim_n])\n",
    "\n",
    "x_sample1, x_sample2 = tf.split(x_sample, num_or_size_splits=2)\n",
    "y_sample1, y_sample2 = tf.split(y_sample, num_or_size_splits=2)\n",
    "joint_sample = tf.concat([x_sample1, y_sample1], axis=1)\n",
    "marg_sample = tf.concat([x_sample2, y_sample1], axis=1)"
   ]
  },
  {
   "cell_type": "code",
   "execution_count": 7,
   "metadata": {},
   "outputs": [
    {
     "name": "stdout",
     "output_type": "stream",
     "text": [
      "Train on 9000 samples\n",
      "Epoch 1/30\n",
      "9000/9000 [==============================] - 0s 47us/sample - loss: -0.0505\n",
      "Epoch 2/30\n",
      "9000/9000 [==============================] - 0s 12us/sample - loss: -0.7593\n",
      "Epoch 3/30\n",
      "9000/9000 [==============================] - 0s 12us/sample - loss: -2.0280\n",
      "Epoch 4/30\n",
      "9000/9000 [==============================] - 0s 12us/sample - loss: -2.6971\n",
      "Epoch 5/30\n",
      "9000/9000 [==============================] - 0s 11us/sample - loss: -3.0710\n",
      "Epoch 6/30\n",
      "9000/9000 [==============================] - 0s 11us/sample - loss: -3.2430\n",
      "Epoch 7/30\n",
      "9000/9000 [==============================] - 0s 11us/sample - loss: -3.4708\n",
      "Epoch 8/30\n",
      "9000/9000 [==============================] - 0s 11us/sample - loss: -3.5317\n",
      "Epoch 9/30\n",
      "9000/9000 [==============================] - 0s 12us/sample - loss: -3.5812\n",
      "Epoch 10/30\n",
      "9000/9000 [==============================] - 0s 12us/sample - loss: -3.5552\n",
      "Epoch 11/30\n",
      "9000/9000 [==============================] - 0s 11us/sample - loss: -3.6636\n",
      "Epoch 12/30\n",
      "9000/9000 [==============================] - 0s 12us/sample - loss: -3.7999\n",
      "Epoch 13/30\n",
      "9000/9000 [==============================] - 0s 12us/sample - loss: -3.5859\n",
      "Epoch 14/30\n",
      "9000/9000 [==============================] - 0s 12us/sample - loss: -3.8038\n",
      "Epoch 15/30\n",
      "9000/9000 [==============================] - 0s 12us/sample - loss: -4.0753\n",
      "Epoch 16/30\n",
      "9000/9000 [==============================] - 0s 13us/sample - loss: -3.9197\n",
      "Epoch 17/30\n",
      "9000/9000 [==============================] - 0s 13us/sample - loss: -3.8644\n",
      "Epoch 18/30\n",
      "9000/9000 [==============================] - 0s 12us/sample - loss: -3.6294\n",
      "Epoch 19/30\n",
      "9000/9000 [==============================] - 0s 12us/sample - loss: -3.7859\n",
      "Epoch 20/30\n",
      "9000/9000 [==============================] - 0s 13us/sample - loss: -3.8225\n",
      "Epoch 21/30\n",
      "9000/9000 [==============================] - 0s 13us/sample - loss: -3.8013\n",
      "Epoch 22/30\n",
      "9000/9000 [==============================] - 0s 13us/sample - loss: -4.0327\n",
      "Epoch 23/30\n",
      "9000/9000 [==============================] - 0s 12us/sample - loss: -3.9841\n",
      "Epoch 24/30\n",
      "9000/9000 [==============================] - 0s 11us/sample - loss: -3.9979\n",
      "Epoch 25/30\n",
      "9000/9000 [==============================] - 0s 11us/sample - loss: -3.9641\n",
      "Epoch 26/30\n",
      "9000/9000 [==============================] - 0s 12us/sample - loss: -4.0970\n",
      "Epoch 27/30\n",
      "9000/9000 [==============================] - 0s 12us/sample - loss: -4.0456\n",
      "Epoch 28/30\n",
      "9000/9000 [==============================] - 0s 12us/sample - loss: -3.8338\n",
      "Epoch 29/30\n",
      "9000/9000 [==============================] - 0s 12us/sample - loss: -3.9486\n",
      "Epoch 30/30\n",
      "9000/9000 [==============================] - 0s 12us/sample - loss: -4.1012\n"
     ]
    }
   ],
   "source": [
    "history_mi = MI_mod.fit((joint_sample, marg_sample), x_sample, epochs=30, batch_size=200)"
   ]
  },
  {
   "cell_type": "code",
   "execution_count": 8,
   "metadata": {},
   "outputs": [],
   "source": [
    "def theoretic_mutual_information(power,noise):\n",
    "    return dim_n*0.5*np.log2(1 + power/noise)\n",
    "\n",
    "\n",
    "df_mi = np.log2(np.exp(1))*np.abs(pd.DataFrame(history_mi.history)) # scaling from Nats to Bits\n",
    "df_mi = df_mi.rename(columns={'loss': 'Approximated mutual information'})\n",
    "history_range = range(len(df_mi))\n",
    "\n",
    "true_mi = [theoretic_mutual_information(SIGNAL_POWER, SIGNAL_NOISE) for x in history_range]"
   ]
  },
  {
   "cell_type": "code",
   "execution_count": 9,
   "metadata": {},
   "outputs": [
    {
     "data": {
      "image/png": "[encoded data removed]",
      "text/plain": [
       "<Figure size 576x360 with 1 Axes>"
      ]
     },
     "metadata": {
      "needs_background": "dark"
     },
     "output_type": "display_data"
    }
   ],
   "source": [
    "df_mi.plot(figsize=(8, 5))\n",
    "plt.plot(history_range, true_mi, label='Theoretical mutual information')\n",
    "plt.grid(True)\n",
    "plt.gca().set_ylim(0, dim_n*3)\n",
    "plt.legend()\n",
    "plt.tick_params(axis='x', colors='white')\n",
    "plt.tick_params(axis='y', colors='white')\n",
    "plt.show()"
   ]
  }
 ],
 "metadata": {
  "kernelspec": {
   "display_name": "Python 3",
   "language": "python",
   "name": "python3"
  },
  "language_info": {
   "codemirror_mode": {
    "name": "ipython",
    "version": 3
   },
   "file_extension": ".py",
   "mimetype": "text/x-python",
   "name": "python",
   "nbconvert_exporter": "python",
   "pygments_lexer": "ipython3",
   "version": "3.6.8"
  }
 },
 "nbformat": 4,
 "nbformat_minor": 2
}
